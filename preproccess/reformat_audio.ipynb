{
 "cells": [
  {
   "cell_type": "code",
   "execution_count": 5,
   "id": "4a393669-575c-48aa-be4c-c1e04ab9eb6d",
   "metadata": {},
   "outputs": [],
   "source": [
    "import os\n",
    "\n",
    "files = os.listdir(os.curdir)"
   ]
  },
  {
   "cell_type": "code",
   "execution_count": 2,
   "id": "d59ab334-dcf5-4d91-9452-fa6f7acffbb7",
   "metadata": {},
   "outputs": [
    {
     "name": "stdout",
     "output_type": "stream",
     "text": [
      "['16.wav', '17.wav', '15.wav', '28.wav', '14.wav', '10.wav', '.DS_Store', '11.wav', '13.wav', '12.wav', '9.wav', '8.wav', '6.wav', '7.wav', '5.wav', '4.wav', 'reformat_audio.ipynb', '1.wav', '3.wav', '2.wav', '.ipynb_checkpoints', '23.wav', '22.wav', '20.wav', '21.wav', '19.wav', '25.wav', '24.wav', '18.wav', '26.wav', '27.wav']\n"
     ]
    }
   ],
   "source": [
    "print(files)"
   ]
  },
  {
   "cell_type": "code",
   "execution_count": 3,
   "id": "d1032536-06fa-4e84-b5ba-9390e18b7d5f",
   "metadata": {},
   "outputs": [],
   "source": [
    "from pydub import AudioSegment\n",
    "from pydub.utils import which\n",
    "AudioSegment.converter = which(\"ffmpeg\")\n",
    "AudioSegment.ffprobe = which(\"ffprobe\")"
   ]
  },
  {
   "cell_type": "code",
   "execution_count": null,
   "id": "f1d799d8-83e3-40d9-90f7-a881220bd96a",
   "metadata": {},
   "outputs": [],
   "source": [
    "output_dir = \"wav\"\n",
    "os.makedirs(output_dir)"
   ]
  },
  {
   "cell_type": "code",
   "execution_count": null,
   "id": "f036a305-8fe5-48ad-9d1c-eb7cca12dc6e",
   "metadata": {},
   "outputs": [],
   "source": [
    "def convert_ogg_to_wav(file):\n",
    "    if file.lower().endswith('.ogg'):\n",
    "        song = AudioSegment.from_ogg(file)\n",
    "        dest = os.path.join(output_dir, os.path.splitext(file)[0] + '.wav')\n",
    "        song.export(dest, format=\"wav\")"
   ]
  },
  {
   "cell_type": "code",
   "execution_count": null,
   "id": "5a47d749-8f20-41b8-8359-ca482ddeba54",
   "metadata": {},
   "outputs": [],
   "source": [
    "for file in os.listdir(os.curdir):\n",
    "    if os.path.isdir(file):\n",
    "        continue\n",
    "    else: \n",
    "        convert_ogg_to_wav(file)"
   ]
  },
  {
   "cell_type": "code",
   "execution_count": 37,
   "id": "51956a04-be91-4776-b8a4-421191b8d05c",
   "metadata": {},
   "outputs": [],
   "source": [
    "output_dir = \"10_sec_split\"\n",
    "os.makedirs(output_dir)"
   ]
  },
  {
   "cell_type": "code",
   "execution_count": 39,
   "id": "3f9b712c-2dd9-4ba2-b3f2-fa2f92a4cad0",
   "metadata": {},
   "outputs": [],
   "source": [
    "split_length = 10000"
   ]
  },
  {
   "cell_type": "code",
   "execution_count": 40,
   "id": "6b78950a-fb6d-458a-9d5d-d7601b57843a",
   "metadata": {},
   "outputs": [],
   "source": [
    "def split_audio(file):\n",
    "    if file.lower().endswith('.wav'):\n",
    "        background = AudioSegment.from_wav(file)\n",
    "        new_file_nums = int(len(background) / split_length) + 1\n",
    "        current_index = 0\n",
    "\n",
    "        for i in range(new_file_nums):\n",
    "            sound_piece = background[current_index:current_index + split_length]\n",
    "            dest = os.path.join(output_dir, os.path.splitext(file)[0] + '_' + str(i) + '.wav')\n",
    "            sound_piece.export(dest, format=\"wav\")\n",
    "            current_index += split_length\n",
    "\n",
    "for file in os.listdir(os.curdir):\n",
    "    if os.path.isdir(file):\n",
    "        continue\n",
    "    split_audio(file)"
   ]
  },
  {
   "cell_type": "code",
   "execution_count": null,
   "id": "75ea2985-8e3a-407f-9ec8-0abf466c56a5",
   "metadata": {},
   "outputs": [],
   "source": []
  }
 ],
 "metadata": {
  "kernelspec": {
   "display_name": "Python 3 (ipykernel)",
   "language": "python",
   "name": "python3"
  },
  "language_info": {
   "codemirror_mode": {
    "name": "ipython",
    "version": 3
   },
   "file_extension": ".py",
   "mimetype": "text/x-python",
   "name": "python",
   "nbconvert_exporter": "python",
   "pygments_lexer": "ipython3",
   "version": "3.11.7"
  }
 },
 "nbformat": 4,
 "nbformat_minor": 5
}
